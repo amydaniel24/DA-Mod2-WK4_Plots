{
 "cells": [
  {
   "cell_type": "markdown",
   "id": "842a2f0c",
   "metadata": {},
   "source": [
    "#Importing packages\n"
   ]
  },
  {
   "cell_type": "code",
   "execution_count": 1,
   "id": "1652616b",
   "metadata": {},
   "outputs": [],
   "source": [
    "import pandas as pd\n",
    "import matplotlib.pyplot as plt\n",
    "import seaborn as sns\n",
    "import plotly.express as px\n",
    "import plotly.io as pio"
   ]
  },
  {
   "cell_type": "markdown",
   "id": "267d976a",
   "metadata": {},
   "source": [
    "#Configuring packages"
   ]
  },
  {
   "cell_type": "code",
   "execution_count": 5,
   "id": "19460816",
   "metadata": {},
   "outputs": [],
   "source": [
    "pio.renderers.default = \"notebook\"\n",
    "sns.set(style=\"whitegrid\")\n",
    "plt.rcParams[\"figure.figsize\"] = (10, 6)"
   ]
  },
  {
   "cell_type": "markdown",
   "id": "15d6bb96",
   "metadata": {},
   "source": [
    "#importing the datasets for plotting"
   ]
  },
  {
   "cell_type": "code",
   "execution_count": 4,
   "id": "b75771f9",
   "metadata": {},
   "outputs": [],
   "source": [
    "health_df = pd.read_csv(\"data/insurance.csv\")\n",
    "obesity_df = pd.read_csv(\"data/obesity_data.csv\")\n",
    "student_df = pd.read_csv(\"data/student.csv\")"
   ]
  },
  {
   "cell_type": "markdown",
   "id": "84f4d939",
   "metadata": {},
   "source": [
    "#cleaning the datasets (or just ensuring that they are clean as the author on Kaggle claims)"
   ]
  },
  {
   "cell_type": "markdown",
   "id": "69e04ada",
   "metadata": {},
   "source": [
    "#Insurance Data set"
   ]
  },
  {
   "cell_type": "code",
   "execution_count": 7,
   "id": "bd03ad8a",
   "metadata": {},
   "outputs": [
    {
     "name": "stdout",
     "output_type": "stream",
     "text": [
      "Healthcare DataFrame Head:\n",
      "   age     sex     bmi  children smoker     region      charges\n",
      "0   19  female  27.900         0    yes  southwest  16884.92400\n",
      "1   18    male  33.770         1     no  southeast   1725.55230\n",
      "2   28    male  33.000         3     no  southeast   4449.46200\n",
      "3   33    male  22.705         0     no  northwest  21984.47061\n",
      "4   32    male  28.880         0     no  northwest   3866.85520\n",
      "\n",
      "Info:\n",
      "<class 'pandas.core.frame.DataFrame'>\n",
      "RangeIndex: 1338 entries, 0 to 1337\n",
      "Data columns (total 7 columns):\n",
      " #   Column    Non-Null Count  Dtype  \n",
      "---  ------    --------------  -----  \n",
      " 0   age       1338 non-null   int64  \n",
      " 1   sex       1338 non-null   object \n",
      " 2   bmi       1338 non-null   float64\n",
      " 3   children  1338 non-null   int64  \n",
      " 4   smoker    1338 non-null   object \n",
      " 5   region    1338 non-null   object \n",
      " 6   charges   1338 non-null   float64\n",
      "dtypes: float64(2), int64(2), object(3)\n",
      "memory usage: 73.3+ KB\n",
      "None\n",
      "\n",
      "Description:\n",
      "                age   sex          bmi     children smoker     region  \\\n",
      "count   1338.000000  1338  1338.000000  1338.000000   1338       1338   \n",
      "unique          NaN     2          NaN          NaN      2          4   \n",
      "top             NaN  male          NaN          NaN     no  southeast   \n",
      "freq            NaN   676          NaN          NaN   1064        364   \n",
      "mean      39.207025   NaN    30.663397     1.094918    NaN        NaN   \n",
      "std       14.049960   NaN     6.098187     1.205493    NaN        NaN   \n",
      "min       18.000000   NaN    15.960000     0.000000    NaN        NaN   \n",
      "25%       27.000000   NaN    26.296250     0.000000    NaN        NaN   \n",
      "50%       39.000000   NaN    30.400000     1.000000    NaN        NaN   \n",
      "75%       51.000000   NaN    34.693750     2.000000    NaN        NaN   \n",
      "max       64.000000   NaN    53.130000     5.000000    NaN        NaN   \n",
      "\n",
      "             charges  \n",
      "count    1338.000000  \n",
      "unique           NaN  \n",
      "top              NaN  \n",
      "freq             NaN  \n",
      "mean    13270.422265  \n",
      "std     12110.011237  \n",
      "min      1121.873900  \n",
      "25%      4740.287150  \n",
      "50%      9382.033000  \n",
      "75%     16639.912515  \n",
      "max     63770.428010  \n"
     ]
    }
   ],
   "source": [
    "health_df = pd.read_csv(\"data/insurance.csv\")\n",
    "print(\"Healthcare DataFrame Head:\")\n",
    "print(health_df.head())\n",
    "print(\"\\nInfo:\")\n",
    "print(health_df.info())\n",
    "print(\"\\nDescription:\")\n",
    "print(health_df.describe(include='all'))\n",
    "\n",
    "health_df.drop_duplicates(inplace=True)\n",
    "health_df.dropna(inplace=True)\n",
    "health_df['sex'] = health_df['sex'].astype('category')"
   ]
  },
  {
   "cell_type": "markdown",
   "id": "2bdb8038",
   "metadata": {},
   "source": [
    "#obesity dataset"
   ]
  },
  {
   "cell_type": "code",
   "execution_count": 9,
   "id": "22b29f7b",
   "metadata": {},
   "outputs": [
    {
     "name": "stdout",
     "output_type": "stream",
     "text": [
      "\n",
      "Obesity DataFrame Head:\n",
      "   Unnamed: 0    Id  Student_Age     Sex High_School_Type Scholarship  \\\n",
      "0           0  5001           21    Male            Other         50%   \n",
      "1           1  5002           20    Male            Other         50%   \n",
      "2           2  5003           21    Male            State         50%   \n",
      "3           3  5004           18  Female          Private         50%   \n",
      "4           4  5005           22    Male          Private         50%   \n",
      "\n",
      "  Additional_Work Sports_activity Transportation  Weekly_Study_Hours  \\\n",
      "0             Yes              No        Private                   0   \n",
      "1             Yes              No        Private                   0   \n",
      "2              No              No        Private                   2   \n",
      "3             Yes              No            Bus                   2   \n",
      "4              No              No            Bus                  12   \n",
      "\n",
      "  Attendance Reading Notes Listening_in_Class Project_work Grade  \n",
      "0     Always     Yes   Yes                 No           No    AA  \n",
      "1     Always     Yes    No                Yes          Yes    AA  \n",
      "2      Never      No    No                 No          Yes    AA  \n",
      "3     Always      No   Yes                 No           No    AA  \n",
      "4     Always     Yes    No                Yes          Yes    AA  \n",
      "\n",
      "Info:\n",
      "<class 'pandas.core.frame.DataFrame'>\n",
      "RangeIndex: 145 entries, 0 to 144\n",
      "Data columns (total 16 columns):\n",
      " #   Column              Non-Null Count  Dtype \n",
      "---  ------              --------------  ----- \n",
      " 0   Unnamed: 0          145 non-null    int64 \n",
      " 1   Id                  145 non-null    int64 \n",
      " 2   Student_Age         145 non-null    int64 \n",
      " 3   Sex                 145 non-null    object\n",
      " 4   High_School_Type    145 non-null    object\n",
      " 5   Scholarship         144 non-null    object\n",
      " 6   Additional_Work     145 non-null    object\n",
      " 7   Sports_activity     145 non-null    object\n",
      " 8   Transportation      145 non-null    object\n",
      " 9   Weekly_Study_Hours  145 non-null    int64 \n",
      " 10  Attendance          145 non-null    object\n",
      " 11  Reading             145 non-null    object\n",
      " 12  Notes               145 non-null    object\n",
      " 13  Listening_in_Class  145 non-null    object\n",
      " 14  Project_work        145 non-null    object\n",
      " 15  Grade               145 non-null    object\n",
      "dtypes: int64(4), object(12)\n",
      "memory usage: 18.3+ KB\n",
      "None\n",
      "\n",
      "Description:\n",
      "        Unnamed: 0           Id  Student_Age   Sex High_School_Type  \\\n",
      "count   145.000000   145.000000   145.000000   145              145   \n",
      "unique         NaN          NaN          NaN     2                3   \n",
      "top            NaN          NaN          NaN  Male            State   \n",
      "freq           NaN          NaN          NaN    87              103   \n",
      "mean     72.000000  5073.000000    19.682759   NaN              NaN   \n",
      "std      42.001984    42.001984     1.992010   NaN              NaN   \n",
      "min       0.000000  5001.000000    18.000000   NaN              NaN   \n",
      "25%      36.000000  5037.000000    18.000000   NaN              NaN   \n",
      "50%      72.000000  5073.000000    19.000000   NaN              NaN   \n",
      "75%     108.000000  5109.000000    21.000000   NaN              NaN   \n",
      "max     144.000000  5145.000000    26.000000   NaN              NaN   \n",
      "\n",
      "       Scholarship Additional_Work Sports_activity Transportation  \\\n",
      "count          144             145             145            145   \n",
      "unique           4               2               2              2   \n",
      "top            50%              No              No        Private   \n",
      "freq            76              96              87             84   \n",
      "mean           NaN             NaN             NaN            NaN   \n",
      "std            NaN             NaN             NaN            NaN   \n",
      "min            NaN             NaN             NaN            NaN   \n",
      "25%            NaN             NaN             NaN            NaN   \n",
      "50%            NaN             NaN             NaN            NaN   \n",
      "75%            NaN             NaN             NaN            NaN   \n",
      "max            NaN             NaN             NaN            NaN   \n",
      "\n",
      "        Weekly_Study_Hours Attendance Reading Notes Listening_in_Class  \\\n",
      "count           145.000000        145     145   145                145   \n",
      "unique                 NaN          4       2     3                  3   \n",
      "top                    NaN     Always      No   Yes                Yes   \n",
      "freq                   NaN         98      76    77                 75   \n",
      "mean              2.331034        NaN     NaN   NaN                NaN   \n",
      "std               4.249273        NaN     NaN   NaN                NaN   \n",
      "min               0.000000        NaN     NaN   NaN                NaN   \n",
      "25%               0.000000        NaN     NaN   NaN                NaN   \n",
      "50%               0.000000        NaN     NaN   NaN                NaN   \n",
      "75%               2.000000        NaN     NaN   NaN                NaN   \n",
      "max              12.000000        NaN     NaN   NaN                NaN   \n",
      "\n",
      "       Project_work Grade  \n",
      "count           145   145  \n",
      "unique            2     8  \n",
      "top              No    AA  \n",
      "freq             73    35  \n",
      "mean            NaN   NaN  \n",
      "std             NaN   NaN  \n",
      "min             NaN   NaN  \n",
      "25%             NaN   NaN  \n",
      "50%             NaN   NaN  \n",
      "75%             NaN   NaN  \n",
      "max             NaN   NaN  \n"
     ]
    }
   ],
   "source": [
    "obesity_df = pd.read_csv(r\"C:\\Users\\opiej\\DA-Mod2-WK4_Plots\\data\\student.csv\")\n",
    "print(\"\\nObesity DataFrame Head:\")\n",
    "print(obesity_df.head())\n",
    "print(\"\\nInfo:\")\n",
    "print(obesity_df.info())\n",
    "print(\"\\nDescription:\")\n",
    "print(obesity_df.describe(include='all'))\n",
    "\n",
    "obesity_df.rename(columns={'NObeyesdad': 'Obesity_Level'}, inplace=True)\n",
    "for col in obesity_df.select_dtypes(include='object').columns:\n",
    "    obesity_df[col] = obesity_df[col].astype('category')\n",
    "obesity_df.drop_duplicates(inplace=True)\n",
    "obesity_df.dropna(inplace=True)"
   ]
  }
 ],
 "metadata": {
  "kernelspec": {
   "display_name": "Python 3",
   "language": "python",
   "name": "python3"
  },
  "language_info": {
   "codemirror_mode": {
    "name": "ipython",
    "version": 3
   },
   "file_extension": ".py",
   "mimetype": "text/x-python",
   "name": "python",
   "nbconvert_exporter": "python",
   "pygments_lexer": "ipython3",
   "version": "3.13.1"
  }
 },
 "nbformat": 4,
 "nbformat_minor": 5
}
