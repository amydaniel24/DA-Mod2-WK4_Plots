{
 "cells": [
  {
   "cell_type": "markdown",
   "id": "842a2f0c",
   "metadata": {},
   "source": [
    "#Importing packages\n"
   ]
  },
  {
   "cell_type": "code",
   "execution_count": 1,
   "id": "1652616b",
   "metadata": {},
   "outputs": [],
   "source": [
    "import pandas as pd\n",
    "import matplotlib.pyplot as plt\n",
    "import seaborn as sns\n",
    "import plotly.express as px\n",
    "import plotly.io as pio"
   ]
  },
  {
   "cell_type": "markdown",
   "id": "267d976a",
   "metadata": {},
   "source": [
    "#Configuring packages"
   ]
  },
  {
   "cell_type": "code",
   "execution_count": null,
   "id": "19460816",
   "metadata": {},
   "outputs": [],
   "source": [
    "pio.renderers.default = \"notebook\"\n",
    "sns.set(style=\"whitegrid\")\n",
    "plt.rcParams[\"figure.figsize\"] = (10, 6)"
   ]
  },
  {
   "cell_type": "markdown",
   "id": "15d6bb96",
   "metadata": {},
   "source": [
    "#importing the datasets for plotting"
   ]
  },
  {
   "cell_type": "code",
   "execution_count": 4,
   "id": "b75771f9",
   "metadata": {},
   "outputs": [],
   "source": [
    "health_df = pd.read_csv(\"data/insurance.csv\")\n",
    "obesity_df = pd.read_csv(\"data/obesity_data.csv\")\n",
    "student_df = pd.read_csv(\"data/student.csv\")"
   ]
  },
  {
   "cell_type": "markdown",
   "id": "84f4d939",
   "metadata": {},
   "source": [
    "#cleaning the datasets (or just ensuring that they are clean as the author on Kaggle claims)"
   ]
  },
  {
   "cell_type": "code",
   "execution_count": null,
   "id": "bd03ad8a",
   "metadata": {},
   "outputs": [],
   "source": []
  }
 ],
 "metadata": {
  "kernelspec": {
   "display_name": "Python 3",
   "language": "python",
   "name": "python3"
  },
  "language_info": {
   "codemirror_mode": {
    "name": "ipython",
    "version": 3
   },
   "file_extension": ".py",
   "mimetype": "text/x-python",
   "name": "python",
   "nbconvert_exporter": "python",
   "pygments_lexer": "ipython3",
   "version": "3.13.1"
  }
 },
 "nbformat": 4,
 "nbformat_minor": 5
}
