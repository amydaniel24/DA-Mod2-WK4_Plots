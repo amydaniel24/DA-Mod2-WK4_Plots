{
 "cells": [
  {
   "cell_type": "markdown",
   "id": "842a2f0c",
   "metadata": {},
   "source": [
    "#Importing packages\n"
   ]
  },
  {
   "cell_type": "code",
   "execution_count": 1,
   "id": "1652616b",
   "metadata": {},
   "outputs": [],
   "source": [
    "import pandas as pd\n",
    "import matplotlib.pyplot as plt\n",
    "import seaborn as sns\n",
    "import plotly.express as px\n",
    "import plotly.io as pio"
   ]
  },
  {
   "cell_type": "markdown",
   "id": "267d976a",
   "metadata": {},
   "source": [
    "#Configuring packages"
   ]
  },
  {
   "cell_type": "code",
   "execution_count": 5,
   "id": "19460816",
   "metadata": {},
   "outputs": [],
   "source": [
    "pio.renderers.default = \"notebook\"\n",
    "sns.set(style=\"whitegrid\")\n",
    "plt.rcParams[\"figure.figsize\"] = (10, 6)"
   ]
  },
  {
   "cell_type": "markdown",
   "id": "15d6bb96",
   "metadata": {},
   "source": [
    "#importing the datasets for plotting"
   ]
  },
  {
   "cell_type": "code",
   "execution_count": 4,
   "id": "b75771f9",
   "metadata": {},
   "outputs": [],
   "source": [
    "health_df = pd.read_csv(\"data/insurance.csv\")\n",
    "obesity_df = pd.read_csv(\"data/obesity_data.csv\")\n",
    "student_df = pd.read_csv(\"data/student.csv\")"
   ]
  },
  {
   "cell_type": "markdown",
   "id": "84f4d939",
   "metadata": {},
   "source": [
    "#cleaning the datasets (or just ensuring that they are clean as the author on Kaggle claims)"
   ]
  },
  {
   "cell_type": "markdown",
   "id": "69e04ada",
   "metadata": {},
   "source": [
    "#Insurance Data set"
   ]
  },
  {
   "cell_type": "code",
   "execution_count": 7,
   "id": "bd03ad8a",
   "metadata": {},
   "outputs": [
    {
     "name": "stdout",
     "output_type": "stream",
     "text": [
      "Healthcare DataFrame Head:\n",
      "   age     sex     bmi  children smoker     region      charges\n",
      "0   19  female  27.900         0    yes  southwest  16884.92400\n",
      "1   18    male  33.770         1     no  southeast   1725.55230\n",
      "2   28    male  33.000         3     no  southeast   4449.46200\n",
      "3   33    male  22.705         0     no  northwest  21984.47061\n",
      "4   32    male  28.880         0     no  northwest   3866.85520\n",
      "\n",
      "Info:\n",
      "<class 'pandas.core.frame.DataFrame'>\n",
      "RangeIndex: 1338 entries, 0 to 1337\n",
      "Data columns (total 7 columns):\n",
      " #   Column    Non-Null Count  Dtype  \n",
      "---  ------    --------------  -----  \n",
      " 0   age       1338 non-null   int64  \n",
      " 1   sex       1338 non-null   object \n",
      " 2   bmi       1338 non-null   float64\n",
      " 3   children  1338 non-null   int64  \n",
      " 4   smoker    1338 non-null   object \n",
      " 5   region    1338 non-null   object \n",
      " 6   charges   1338 non-null   float64\n",
      "dtypes: float64(2), int64(2), object(3)\n",
      "memory usage: 73.3+ KB\n",
      "None\n",
      "\n",
      "Description:\n",
      "                age   sex          bmi     children smoker     region  \\\n",
      "count   1338.000000  1338  1338.000000  1338.000000   1338       1338   \n",
      "unique          NaN     2          NaN          NaN      2          4   \n",
      "top             NaN  male          NaN          NaN     no  southeast   \n",
      "freq            NaN   676          NaN          NaN   1064        364   \n",
      "mean      39.207025   NaN    30.663397     1.094918    NaN        NaN   \n",
      "std       14.049960   NaN     6.098187     1.205493    NaN        NaN   \n",
      "min       18.000000   NaN    15.960000     0.000000    NaN        NaN   \n",
      "25%       27.000000   NaN    26.296250     0.000000    NaN        NaN   \n",
      "50%       39.000000   NaN    30.400000     1.000000    NaN        NaN   \n",
      "75%       51.000000   NaN    34.693750     2.000000    NaN        NaN   \n",
      "max       64.000000   NaN    53.130000     5.000000    NaN        NaN   \n",
      "\n",
      "             charges  \n",
      "count    1338.000000  \n",
      "unique           NaN  \n",
      "top              NaN  \n",
      "freq             NaN  \n",
      "mean    13270.422265  \n",
      "std     12110.011237  \n",
      "min      1121.873900  \n",
      "25%      4740.287150  \n",
      "50%      9382.033000  \n",
      "75%     16639.912515  \n",
      "max     63770.428010  \n"
     ]
    }
   ],
   "source": [
    "health_df = pd.read_csv(\"data/insurance.csv\")\n",
    "print(\"Healthcare DataFrame Head:\")\n",
    "print(health_df.head())\n",
    "print(\"\\nInfo:\")\n",
    "print(health_df.info())\n",
    "print(\"\\nDescription:\")\n",
    "print(health_df.describe(include='all'))\n",
    "\n",
    "health_df.drop_duplicates(inplace=True)\n",
    "health_df.dropna(inplace=True)\n",
    "health_df['sex'] = health_df['sex'].astype('category')"
   ]
  }
 ],
 "metadata": {
  "kernelspec": {
   "display_name": "Python 3",
   "language": "python",
   "name": "python3"
  },
  "language_info": {
   "codemirror_mode": {
    "name": "ipython",
    "version": 3
   },
   "file_extension": ".py",
   "mimetype": "text/x-python",
   "name": "python",
   "nbconvert_exporter": "python",
   "pygments_lexer": "ipython3",
   "version": "3.13.1"
  }
 },
 "nbformat": 4,
 "nbformat_minor": 5
}
